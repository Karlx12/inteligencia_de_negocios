{
 "cells": [
  {
   "cell_type": "markdown",
   "id": "76b9249c",
   "metadata": {},
   "source": [
    "# Detección de Tumores Cerebrales con YOLOv8\n",
    "\n",
    "Este notebook implementa la detección de tumores cerebrales en imágenes MRI usando YOLOv8. Incluye:\n",
    "\n",
    "1. Preparación de datos\n",
    "2. Entrenamiento y evaluación con YOLOv8 (usando Ultralytics)\n",
    "3. Visualización de resultados"
   ]
  },
  {
   "cell_type": "code",
   "execution_count": null,
   "id": "252416b8",
   "metadata": {},
   "outputs": [],
   "source": [
    "# Instalación de Ultralytics YOLOv8 (si es necesario)\n",
    "# !pip install ultralytics\n",
    "\n",
    "import os\n",
    "from ultralytics import YOLO\n",
    "\n",
    "# Configuración de rutas\n",
    "DATASET_DIR = \"../total/archive/Training\"\n",
    "MODEL_DIR = \"models/yolov8\"\n",
    "\n",
    "os.makedirs(MODEL_DIR, exist_ok=True)"
   ]
  },
  {
   "cell_type": "code",
   "execution_count": null,
   "id": "340489da",
   "metadata": {},
   "outputs": [],
   "source": [
    "# Ejemplo de entrenamiento (ajusta los paths y parámetros según tu dataset)\n",
    "# model = YOLO('yolov8n.pt')\n",
    "# model.train(data='ruta_a_tu_data.yaml', epochs=50, imgsz=640, project=MODEL_DIR)"
   ]
  },
  {
   "cell_type": "markdown",
   "id": "f0fd8843",
   "metadata": {},
   "source": [
    "Consulta la documentación de Ultralytics para detalles de configuración y anotaciones."
   ]
  }
 ],
 "metadata": {
  "language_info": {
   "name": "python"
  }
 },
 "nbformat": 4,
 "nbformat_minor": 5
}
