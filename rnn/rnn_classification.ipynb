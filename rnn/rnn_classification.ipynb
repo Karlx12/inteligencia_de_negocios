{
 "cells": [
  {
   "cell_type": "markdown",
   "id": "0a4d00d8",
   "metadata": {},
   "source": [
    "# Clasificación de Imágenes MRI con RNN\n",
    "\n",
    "Este notebook explora el uso de redes neuronales recurrentes (RNN) para la clasificación de imágenes MRI de tumores cerebrales. Incluye:\n",
    "\n",
    "1. Preprocesamiento y conversión de imágenes a secuencias\n",
    "2. Definición y entrenamiento de un modelo RNN\n",
    "3. Evaluación de resultados"
   ]
  },
  {
   "cell_type": "code",
   "execution_count": null,
   "id": "20739fb3",
   "metadata": {},
   "outputs": [],
   "source": [
    "import os\n",
    "import numpy as np\n",
    "import tensorflow as tf\n",
    "from tensorflow.keras.models import Sequential\n",
    "from tensorflow.keras.layers import SimpleRNN, Dense, Flatten\n",
    "\n",
    "# Configuración de rutas\n",
    "DATASET_DIR = \"../total/archive/Training\""
   ]
  },
  {
   "cell_type": "code",
   "execution_count": null,
   "id": "c1989d58",
   "metadata": {},
   "outputs": [],
   "source": [
    "# Ejemplo de modelo RNN para imágenes (requiere convertir imágenes a secuencias)\n",
    "# model = Sequential([\n",
    "#     SimpleRNN(128, input_shape=(secuencia_largo, secuencia_dim)),\n",
    "#     Dense(num_classes, activation='softmax')\n",
    "# ])\n",
    "# model.compile(optimizer='adam', loss='categorical_crossentropy', metrics=['accuracy'])"
   ]
  },
  {
   "cell_type": "markdown",
   "id": "67af8312",
   "metadata": {},
   "source": [
    "Las RNN no son ideales para imágenes, pero este notebook es educativo para explorar su uso en visión computacional."
   ]
  },
  {
   "cell_type": "markdown",
   "id": "04f8b77c",
   "metadata": {},
   "source": [
    "# Clasificación de Tumores Cerebrales con RNN (Secuencias de Parches de Imagen)\n",
    "\n",
    "Este notebook implementa una aproximación experimental para usar RNN en imágenes MRI, convirtiendo cada imagen en una secuencia de parches y clasificando con una red recurrente."
   ]
  },
  {
   "cell_type": "code",
   "execution_count": null,
   "id": "e4ee7372",
   "metadata": {},
   "outputs": [],
   "source": [
    "import os\n",
    "import numpy as np\n",
    "from pathlib import Path\n",
    "import tensorflow as tf\n",
    "from tensorflow.keras.models import Sequential\n",
    "from tensorflow.keras.layers import SimpleRNN, Dense, Dropout, BatchNormalization, TimeDistributed, Flatten\n",
    "from tensorflow.keras.preprocessing.image import ImageDataGenerator\n",
    "from tensorflow.keras.callbacks import EarlyStopping, ReduceLROnPlateau, ModelCheckpoint, TensorBoard\n",
    "from tensorflow.keras.optimizers import Adam\n",
    "from tensorflow.keras.regularizers import l2\n",
    "\n",
    "np.random.seed(42)\n",
    "tf.random.set_seed(42)\n",
    "\n",
    "gpus = tf.config.experimental.list_physical_devices(\"GPU\")\n",
    "if gpus:\n",
    "    try:\n",
    "        for gpu in gpus:\n",
    "            tf.config.experimental.set_memory_growth(gpu, True)\n",
    "    except RuntimeError as e:\n",
    "        print(e)\n",
    "\n",
    "BASE_DIR = Path(\"../total/archive/Training\")\n",
    "classes = [d.name for d in BASE_DIR.iterdir() if d.is_dir()]\n",
    "num_classes = len(classes)\n",
    "\n",
    "IMG_SIZE = 64\n",
    "BATCH_SIZE = 32\n",
    "EPOCHS = 100\n",
    "LEARNING_RATE = 0.001\n",
    "DROPOUT_RATE = 0.5\n",
    "L2_REG = 0.0001\n",
    "PATCH_SIZE = 16\n",
    "PATCHES = (IMG_SIZE // PATCH_SIZE) ** 2\n",
    "PATCH_DIM = PATCH_SIZE * PATCH_SIZE * 3"
   ]
  },
  {
   "cell_type": "code",
   "execution_count": null,
   "id": "9ee554ef",
   "metadata": {},
   "outputs": [],
   "source": [
    "def image_to_sequence(img):\n",
    "    patches = []\n",
    "    h, w, c = img.shape\n",
    "    for i in range(0, h, PATCH_SIZE):\n",
    "        for j in range(0, w, PATCH_SIZE):\n",
    "            patch = img[i:i+PATCH_SIZE, j:j+PATCH_SIZE, :].reshape(-1)\n",
    "            patches.append(patch)\n",
    "    return np.array(patches)\n",
    "\n",
    "def generator_with_sequence(generator):\n",
    "    while True:\n",
    "        images, labels = next(generator)\n",
    "        batch_seq = np.array([image_to_sequence(img) for img in images])\n",
    "        yield batch_seq, labels"
   ]
  },
  {
   "cell_type": "code",
   "execution_count": null,
   "id": "31f26ba9",
   "metadata": {},
   "outputs": [],
   "source": [
    "train_datagen = ImageDataGenerator(\n",
    "    rescale=1.0 / 255,\n",
    "    validation_split=0.2,\n",
    ")\n",
    "\n",
    "train_generator = train_datagen.flow_from_directory(\n",
    "    str(BASE_DIR),\n",
    "    target_size=(IMG_SIZE, IMG_SIZE),\n",
    "    batch_size=BATCH_SIZE,\n",
    "    class_mode=\"categorical\",\n",
    "    subset=\"training\",\n",
    "    shuffle=True,\n",
    "    color_mode=\"rgb\",\n",
    ")\n",
    "\n",
    "val_generator = train_datagen.flow_from_directory(\n",
    "    str(BASE_DIR),\n",
    "    target_size=(IMG_SIZE, IMG_SIZE),\n",
    "    batch_size=BATCH_SIZE,\n",
    "    class_mode=\"categorical\",\n",
    "    subset=\"validation\",\n",
    "    shuffle=False,\n",
    "    color_mode=\"rgb\",\n",
    ")"
   ]
  },
  {
   "cell_type": "code",
   "execution_count": null,
   "id": "98c80508",
   "metadata": {},
   "outputs": [],
   "source": [
    "def create_brain_tumor_rnn(input_shape=(PATCHES, PATCH_DIM), num_classes=num_classes):\n",
    "    model = Sequential([\n",
    "        SimpleRNN(128, input_shape=input_shape, return_sequences=True, kernel_regularizer=l2(L2_REG)),\n",
    "        BatchNormalization(),\n",
    "        Dropout(DROPOUT_RATE),\n",
    "        SimpleRNN(64, return_sequences=False, kernel_regularizer=l2(L2_REG)),\n",
    "        BatchNormalization(),\n",
    "        Dropout(DROPOUT_RATE),\n",
    "        Dense(64, activation=\"relu\", kernel_regularizer=l2(L2_REG)),\n",
    "        BatchNormalization(),\n",
    "        Dropout(DROPOUT_RATE),\n",
    "        Dense(num_classes, activation=\"softmax\")\n",
    "    ])\n",
    "    model.compile(optimizer=Adam(learning_rate=LEARNING_RATE), loss=\"categorical_crossentropy\", metrics=[\"accuracy\", tf.keras.metrics.AUC(name=\"auc\")])\n",
    "    return model\n",
    "\n",
    "model = create_brain_tumor_rnn()\n",
    "model.summary()\n",
    "\n",
    "callbacks = [\n",
    "    EarlyStopping(monitor=\"val_auc\", patience=15, mode=\"max\", restore_best_weights=True),\n",
    "    ReduceLROnPlateau(monitor=\"val_loss\", factor=0.2, patience=8),\n",
    "    ModelCheckpoint(\"best_rnn_model.h5\", monitor=\"val_auc\", save_best_only=True, mode=\"max\"),\n",
    "    TensorBoard(log_dir=\"./logs_rnn\"),\n",
    "]\n",
    "\n",
    "history = model.fit(\n",
    "    generator_with_sequence(train_generator),\n",
    "    steps_per_epoch=train_generator.samples // BATCH_SIZE,\n",
    "    validation_data=generator_with_sequence(val_generator),\n",
    "    validation_steps=val_generator.samples // BATCH_SIZE,\n",
    "    epochs=EPOCHS,\n",
    "    callbacks=callbacks,\n",
    ")\n",
    "\n",
    "val_loss, val_acc, val_auc = model.evaluate(generator_with_sequence(val_generator), steps=val_generator.samples // BATCH_SIZE)\n",
    "print(f\"\\nPrecisión Validación: {val_acc:.4f}\")\n",
    "print(f\"AUC Validación: {val_auc:.4f}\")\n",
    "\n",
    "model.save(\"brain_tumor_rnn_final.h5\")"
   ]
  }
 ],
 "metadata": {
  "language_info": {
   "name": "python"
  }
 },
 "nbformat": 4,
 "nbformat_minor": 5
}
