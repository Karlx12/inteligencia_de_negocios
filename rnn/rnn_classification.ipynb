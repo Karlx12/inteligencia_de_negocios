{
  "cells": [
    {
      "cell_type": "markdown",
      "id": "0a4d00d8",
      "metadata": {
        "id": "0a4d00d8"
      },
      "source": [
        "# Clasificación de Imágenes MRI con RNN\n",
        "\n",
        "Este notebook explora el uso de redes neuronales recurrentes (RNN) para la clasificación de imágenes MRI de tumores cerebrales. Incluye:\n",
        "\n",
        "1. Preprocesamiento y conversión de imágenes a secuencias\n",
        "2. Definición y entrenamiento de un modelo RNN\n",
        "3. Evaluación de resultados"
      ]
    },
    {
      "cell_type": "code",
      "execution_count": 1,
      "id": "20739fb3",
      "metadata": {
        "id": "20739fb3"
      },
      "outputs": [],
      "source": [
        "import os\n",
        "import numpy as np\n",
        "import tensorflow as tf\n",
        "from tensorflow.keras.models import Sequential\n",
        "from tensorflow.keras.layers import SimpleRNN, Dense, Flatten\n",
        "\n",
        "# Configuración de rutas\n",
        "DATASET_DIR = \"../total/archive/Training\""
      ]
    },
    {
      "cell_type": "markdown",
      "id": "67af8312",
      "metadata": {
        "id": "67af8312"
      },
      "source": [
        "Las RNN no son ideales para imágenes, pero este notebook es educativo para explorar su uso en visión computacional."
      ]
    },
    {
      "cell_type": "code",
      "execution_count": 3,
      "id": "PEEqwNidclqw",
      "metadata": {
        "colab": {
          "base_uri": "https://localhost:8080/"
        },
        "id": "PEEqwNidclqw",
        "outputId": "5d1b32ae-af96-4f82-e36f-eb3db647b1b6"
      },
      "outputs": [
        {
          "name": "stdout",
          "output_type": "stream",
          "text": [
            "Mounted at /content/drive\n"
          ]
        }
      ],
      "source": [
        "from google.colab import drive\n",
        "drive.mount('/content/drive')"
      ]
    },
    {
      "cell_type": "code",
      "execution_count": 4,
      "id": "LWPaMqvrdjuA",
      "metadata": {
        "id": "LWPaMqvrdjuA"
      },
      "outputs": [],
      "source": [
        "from pathlib import Path\n",
        "\n",
        "BASE_DIR = Path(\"/content/drive/MyDrive/dataset/\")\n",
        "TRAINING_BASE_DIR = BASE_DIR / \"Training\"\n",
        "AUGMENTED_BASE_DIR = BASE_DIR / \"Augmented\"\n"
      ]
    },
    {
      "cell_type": "markdown",
      "id": "04f8b77c",
      "metadata": {
        "id": "04f8b77c"
      },
      "source": [
        "# Clasificación de Tumores Cerebrales con RNN (Secuencias de Parches de Imagen)\n",
        "\n",
        "Este notebook implementa una aproximación experimental para usar RNN en imágenes MRI, convirtiendo cada imagen en una secuencia de parches y clasificando con una red recurrente."
      ]
    },
    {
      "cell_type": "code",
      "execution_count": null,
      "id": "e4ee7372",
      "metadata": {
        "id": "e4ee7372"
      },
      "outputs": [],
      "source": [
        "import os\n",
        "import numpy as np\n",
        "import tensorflow as tf\n",
        "from tensorflow.keras.models import Sequential\n",
        "from tensorflow.keras.layers import SimpleRNN, Dense, Dropout, BatchNormalization, TimeDistributed, Flatten\n",
        "from tensorflow.keras.preprocessing.image import ImageDataGenerator\n",
        "from tensorflow.keras.callbacks import EarlyStopping, ReduceLROnPlateau, ModelCheckpoint, TensorBoard\n",
        "from tensorflow.keras.optimizers import Adam\n",
        "from tensorflow.keras.regularizers import l2\n",
        "\n",
        "np.random.seed(42)\n",
        "tf.random.set_seed(42)\n",
        "\n",
        "gpus = tf.config.experimental.list_physical_devices(\"GPU\")\n",
        "if gpus:\n",
        "    try:\n",
        "        for gpu in gpus:\n",
        "            tf.config.experimental.set_memory_growth(gpu, True)\n",
        "    except RuntimeError as e:\n",
        "        print(e)\n",
        "\n",
        "classes = [d.name for d in BASE_DIR.iterdir() if d.is_dir()]\n",
        "num_classes = len(classes)\n",
        "\n",
        "IMG_SIZE = 64\n",
        "BATCH_SIZE = 32\n",
        "EPOCHS = 100\n",
        "LEARNING_RATE = 0.001\n",
        "DROPOUT_RATE = 0.5\n",
        "L2_REG = 0.0001\n",
        "PATCH_SIZE = 16\n",
        "PATCHES = (IMG_SIZE // PATCH_SIZE) ** 2\n",
        "PATCH_DIM = PATCH_SIZE * PATCH_SIZE * 3"
      ]
    },
    {
      "cell_type": "code",
      "execution_count": null,
      "id": "9ee554ef",
      "metadata": {
        "id": "9ee554ef"
      },
      "outputs": [],
      "source": [
        "def image_to_sequence(img):\n",
        "    patches = []\n",
        "    h, w, c = img.shape\n",
        "    for i in range(0, h, PATCH_SIZE):\n",
        "        for j in range(0, w, PATCH_SIZE):\n",
        "            patch = img[i:i+PATCH_SIZE, j:j+PATCH_SIZE, :].reshape(-1)\n",
        "            patches.append(patch)\n",
        "    return np.array(patches)\n",
        "\n",
        "def generator_with_sequence(generator):\n",
        "    while True:\n",
        "        images, labels = next(generator)\n",
        "        batch_seq = np.array([image_to_sequence(img) for img in images])\n",
        "        yield batch_seq, labels"
      ]
    },
    {
      "cell_type": "code",
      "execution_count": null,
      "id": "31f26ba9",
      "metadata": {
        "id": "31f26ba9"
      },
      "outputs": [],
      "source": [
        "train_datagen = ImageDataGenerator(\n",
        "    rescale=1.0 / 255,\n",
        "    validation_split=0.2,\n",
        ")\n",
        "\n",
        "train_generator = train_datagen.flow_from_directory(\n",
        "    str(BASE_DIR),\n",
        "    target_size=(IMG_SIZE, IMG_SIZE),\n",
        "    batch_size=BATCH_SIZE,\n",
        "    class_mode=\"categorical\",\n",
        "    subset=\"training\",\n",
        "    shuffle=True,\n",
        "    color_mode=\"rgb\",\n",
        ")\n",
        "\n",
        "val_generator = train_datagen.flow_from_directory(\n",
        "    str(BASE_DIR),\n",
        "    target_size=(IMG_SIZE, IMG_SIZE),\n",
        "    batch_size=BATCH_SIZE,\n",
        "    class_mode=\"categorical\",\n",
        "    subset=\"validation\",\n",
        "    shuffle=False,\n",
        "    color_mode=\"rgb\",\n",
        ")"
      ]
    },
    {
      "cell_type": "code",
      "execution_count": null,
      "id": "98c80508",
      "metadata": {
        "id": "98c80508"
      },
      "outputs": [],
      "source": [
        "def create_brain_tumor_rnn(input_shape=(PATCHES, PATCH_DIM), num_classes=num_classes):\n",
        "    model = Sequential([\n",
        "        SimpleRNN(128, input_shape=input_shape, return_sequences=True, kernel_regularizer=l2(L2_REG)),\n",
        "        BatchNormalization(),\n",
        "        Dropout(DROPOUT_RATE),\n",
        "        SimpleRNN(64, return_sequences=False, kernel_regularizer=l2(L2_REG)),\n",
        "        BatchNormalization(),\n",
        "        Dropout(DROPOUT_RATE),\n",
        "        Dense(64, activation=\"relu\", kernel_regularizer=l2(L2_REG)),\n",
        "        BatchNormalization(),\n",
        "        Dropout(DROPOUT_RATE),\n",
        "        Dense(num_classes, activation=\"softmax\")\n",
        "    ])\n",
        "    model.compile(optimizer=Adam(learning_rate=LEARNING_RATE), loss=\"categorical_crossentropy\", metrics=[\"accuracy\", tf.keras.metrics.AUC(name=\"auc\")])\n",
        "    return model\n",
        "\n",
        "model = create_brain_tumor_rnn()\n",
        "model.summary()\n",
        "\n",
        "callbacks = [\n",
        "    EarlyStopping(monitor=\"val_auc\", patience=15, mode=\"max\", restore_best_weights=True),\n",
        "    ReduceLROnPlateau(monitor=\"val_loss\", factor=0.2, patience=8),\n",
        "    ModelCheckpoint(\"best_rnn_model.h5\", monitor=\"val_auc\", save_best_only=True, mode=\"max\"),\n",
        "    TensorBoard(log_dir=\"./logs_rnn\"),\n",
        "]\n",
        "\n",
        "history = model.fit(\n",
        "    generator_with_sequence(train_generator),\n",
        "    steps_per_epoch=train_generator.samples // BATCH_SIZE,\n",
        "    validation_data=generator_with_sequence(val_generator),\n",
        "    validation_steps=val_generator.samples // BATCH_SIZE,\n",
        "    epochs=EPOCHS,\n",
        "    callbacks=callbacks,\n",
        ")\n",
        "\n",
        "val_loss, val_acc, val_auc = model.evaluate(generator_with_sequence(val_generator), steps=val_generator.samples // BATCH_SIZE)\n",
        "print(f\"\\nPrecisión Validación: {val_acc:.4f}\")\n",
        "print(f\"AUC Validación: {val_auc:.4f}\")\n",
        "\n",
        "model.save(\"brain_tumor_rnn_final.h5\")"
      ]
    },
    {
      "cell_type": "markdown",
      "id": "290997a4",
      "metadata": {
        "id": "290997a4"
      },
      "source": [
        "# Aumentación de Datos para Imágenes MRI\n",
        "\n",
        "Antes de convertir las imágenes a secuencias para la RNN, es recomendable aplicar aumentación para mejorar la robustez del modelo. A continuación se muestra cómo realizar aumentación usando `ImageDataGenerator` de Keras y visualizar ejemplos."
      ]
    },
    {
      "cell_type": "code",
      "execution_count": null,
      "id": "c6a55b7e",
      "metadata": {
        "id": "c6a55b7e"
      },
      "outputs": [],
      "source": [
        "import matplotlib.pyplot as plt\n",
        "from tensorflow.keras.preprocessing.image import ImageDataGenerator\n",
        "from pathlib import Path\n",
        "\n",
        "from pathlib import Path\n",
        "from tqdm import tqdm\n",
        "import cv2\n",
        "import albumentations as A\n",
        "\n",
        "AUG_IMG_SIZE = 64\n",
        "AUG_BATCH_SIZE = 4\n",
        "\n",
        "# Crear carpetas de salida si no existen\n",
        "AUGMENTED_BASE_DIR.mkdir(parents=True, exist_ok=True)\n",
        "\n",
        "\n",
        "AUG_PER_IMAGE = 10  # Número de aumentaciones por imagen\n",
        "INPUT_DIR = TRAINING_BASE_DIR\n",
        "OUTPUT_DIR = AUGMENTED_BASE_DIR\n",
        "\n",
        "# Definir el pipeline de augmentación (basado en el notebook)\n",
        "transform = A.Compose(\n",
        "    [\n",
        "        A.HorizontalFlip(p=0.5),\n",
        "        A.VerticalFlip(p=0.5),\n",
        "        A.Rotate(limit=30, p=0.5),\n",
        "        A.RandomBrightnessContrast(\n",
        "            brightness_limit=0.2, contrast_limit=0.2, p=0.3\n",
        "        ),\n",
        "        A.GaussianBlur(blur_limit=(3, 7), p=0.2),\n",
        "        A.CLAHE(p=0.3),\n",
        "    ]\n",
        ")\n",
        "\n",
        "\n",
        "def augment_dataset(input_dir, output_dir, aug_per_image=AUG_PER_IMAGE):\n",
        "    input_dir = Path(input_dir)\n",
        "    output_dir = Path(output_dir)\n",
        "    output_dir.mkdir(parents=True, exist_ok=True)\n",
        "    for class_dir in input_dir.iterdir():\n",
        "        if not class_dir.is_dir():\n",
        "            continue\n",
        "        out_class_dir = output_dir / class_dir.name\n",
        "        out_class_dir.mkdir(parents=True, exist_ok=True)\n",
        "        images = sorted([f for f in class_dir.glob(\"*.jpg\")])\n",
        "        for img_path in tqdm(images, desc=f\"{class_dir.name}\"):\n",
        "            img = cv2.imread(str(img_path))\n",
        "            if img is None:\n",
        "                continue\n",
        "            # Guardar imagen original\n",
        "            orig_name = out_class_dir / img_path.name\n",
        "            cv2.imwrite(str(orig_name), img)\n",
        "            # Generar aumentaciones\n",
        "            for i in range(aug_per_image):\n",
        "                augmented = transform(image=img)\n",
        "                aug_img = augmented[\"image\"]\n",
        "                aug_name = (\n",
        "                    out_class_dir / f\"{img_path.stem}_aug{i}{img_path.suffix}\"\n",
        "                )\n",
        "                cv2.imwrite(str(aug_name), aug_img)\n"
      ]
    }
  ],
  "metadata": {
    "colab": {
      "provenance": []
    },
    "kernelspec": {
      "display_name": "Python 3",
      "name": "python3"
    },
    "language_info": {
      "name": "python"
    }
  },
  "nbformat": 4,
  "nbformat_minor": 5
}
