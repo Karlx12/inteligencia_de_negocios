{
 "cells": [
  {
   "cell_type": "markdown",
   "id": "e5df2947",
   "metadata": {},
   "source": [
    "# Clasificación de Imágenes MRI con SVM + HOG\n",
    "\n",
    "Este notebook implementa un pipeline clásico de visión computacional usando:\n",
    "\n",
    "1. Extracción de características HOG (Histogram of Oriented Gradients)\n",
    "2. Clasificación con SVM (Support Vector Machine)\n",
    "3. Evaluación de resultados"
   ]
  },
  {
   "cell_type": "code",
   "execution_count": null,
   "id": "2910acb4",
   "metadata": {},
   "outputs": [],
   "source": [
    "import os\n",
    "import numpy as np\n",
    "from pathlib import Path\n",
    "import cv2\n",
    "from sklearn.svm import SVC\n",
    "from skimage.feature import hog\n",
    "from sklearn.metrics import classification_report, confusion_matrix\n",
    "from sklearn.model_selection import train_test_split\n",
    "import matplotlib.pyplot as plt\n",
    "import seaborn as sns\n",
    "\n",
    "np.random.seed(42)\n",
    "\n",
    "BASE_DIR = Path(\"../total/archive/Training\")\n",
    "classes = [d.name for d in BASE_DIR.iterdir() if d.is_dir()]\n",
    "num_classes = len(classes)\n",
    "IMG_SIZE = 128\n",
    "\n",
    "X, y = [], []\n",
    "for idx, class_name in enumerate(classes):\n",
    "    class_dir = BASE_DIR / class_name\n",
    "    for img_path in class_dir.glob('*.jpg'):\n",
    "        img = cv2.imread(str(img_path), cv2.IMREAD_GRAYSCALE)\n",
    "        img = cv2.resize(img, (IMG_SIZE, IMG_SIZE))\n",
    "        features = hog(img, pixels_per_cell=(16, 16), cells_per_block=(2, 2), feature_vector=True)\n",
    "        X.append(features)\n",
    "        y.append(idx)\n",
    "X = np.array(X)\n",
    "y = np.array(y)\n",
    "\n",
    "X_train, X_test, y_train, y_test = train_test_split(X, y, test_size=0.2, random_state=42, stratify=y)\n",
    "\n",
    "clf = SVC(kernel='linear', probability=True, random_state=42)\n",
    "clf.fit(X_train, y_train)\n",
    "\n",
    "y_pred = clf.predict(X_test)\n",
    "print(classification_report(y_test, y_pred, target_names=classes))\n",
    "cm = confusion_matrix(y_test, y_pred)\n",
    "plt.figure(figsize=(8, 6))\n",
    "sns.heatmap(cm, annot=True, fmt='d', cmap='Blues', xticklabels=classes, yticklabels=classes)\n",
    "plt.title('Matriz de Confusión')\n",
    "plt.ylabel('Verdaderos')\n",
    "plt.xlabel('Predichos')\n",
    "plt.show()"
   ]
  },
  {
   "cell_type": "markdown",
   "id": "dbfaaa0c",
   "metadata": {},
   "source": [
    "Este pipeline es útil como línea base y para comparar con modelos de deep learning."
   ]
  }
 ],
 "metadata": {
  "language_info": {
   "name": "python"
  }
 },
 "nbformat": 4,
 "nbformat_minor": 5
}
