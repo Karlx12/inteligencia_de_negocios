{
 "cells": [
  {
   "cell_type": "markdown",
   "id": "e5df2947",
   "metadata": {},
   "source": [
    "# Clasificación de Imágenes MRI con SVM + HOG\n",
    "\n",
    "Este notebook implementa un pipeline clásico de visión computacional usando:\n",
    "\n",
    "1. Extracción de características HOG (Histogram of Oriented Gradients)\n",
    "2. Clasificación con SVM (Support Vector Machine)\n",
    "3. Evaluación de resultados"
   ]
  },
  {
   "cell_type": "code",
   "execution_count": null,
   "id": "2910acb4",
   "metadata": {},
   "outputs": [],
   "source": [
    "import os\n",
    "import cv2\n",
    "import numpy as np\n",
    "from sklearn.svm import SVC\n",
    "from skimage.feature import hog\n",
    "from sklearn.metrics import classification_report\n",
    "\n",
    "# Configuración de rutas\n",
    "DATASET_DIR = \"../total/archive/Training\""
   ]
  },
  {
   "cell_type": "code",
   "execution_count": null,
   "id": "b4b1fae5",
   "metadata": {},
   "outputs": [],
   "source": [
    "# Ejemplo de extracción de HOG y entrenamiento SVM\n",
    "# features, labels = [], []\n",
    "# for img_path in ...:\n",
    "#     img = cv2.imread(img_path, cv2.IMREAD_GRAYSCALE)\n",
    "#     hog_feat = hog(img, pixels_per_cell=(16, 16), cells_per_block=(2, 2))\n",
    "#     features.append(hog_feat)\n",
    "#     labels.append(label)\n",
    "# clf = SVC(kernel='linear')\n",
    "# clf.fit(features, labels)"
   ]
  },
  {
   "cell_type": "markdown",
   "id": "dbfaaa0c",
   "metadata": {},
   "source": [
    "Este pipeline es útil como línea base y para comparar con modelos de deep learning."
   ]
  }
 ],
 "metadata": {
  "language_info": {
   "name": "python"
  }
 },
 "nbformat": 4,
 "nbformat_minor": 5
}
