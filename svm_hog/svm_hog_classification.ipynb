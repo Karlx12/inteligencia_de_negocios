{
 "cells": [
  {
   "cell_type": "markdown",
   "id": "e5df2947",
   "metadata": {},
   "source": [
    "# Clasificación de Imágenes MRI con SVM + HOG\n",
    "\n",
    "Este notebook implementa un pipeline clásico de visión computacional usando:\n",
    "\n",
    "1. Extracción de características HOG (Histogram of Oriented Gradients)\n",
    "2. Clasificación con SVM (Support Vector Machine)\n",
    "3. Evaluación de resultados"
   ]
  },
  {
   "cell_type": "code",
   "execution_count": null,
   "id": "2910acb4",
   "metadata": {},
   "outputs": [],
   "source": [
    "import os\n",
    "import cv2\n",
    "import numpy as np\n",
    "from sklearn.svm import SVC\n",
    "from skimage.feature import hog\n",
    "from sklearn.metrics import classification_report\n",
    "\n",
    "# Configuración de rutas\n",
    "DATASET_DIR = \"../total/archive/Training\""
   ]
  },
  {
   "cell_type": "code",
   "execution_count": null,
   "id": "b4b1fae5",
   "metadata": {},
   "outputs": [],
   "source": [
    "# Ejemplo de extracción de HOG y entrenamiento SVM\n",
    "# features, labels = [], []\n",
    "# for img_path in ...:\n",
    "#     img = cv2.imread(img_path, cv2.IMREAD_GRAYSCALE)\n",
    "#     hog_feat = hog(img, pixels_per_cell=(16, 16), cells_per_block=(2, 2))\n",
    "#     features.append(hog_feat)\n",
    "#     labels.append(label)\n",
    "# clf = SVC(kernel='linear')\n",
    "# clf.fit(features, labels)"
   ]
  },
  {
   "cell_type": "markdown",
   "id": "dbfaaa0c",
   "metadata": {},
   "source": [
    "Este pipeline es útil como línea base y para comparar con modelos de deep learning."
   ]
  },
  {
   "cell_type": "markdown",
   "id": "dc8d6176",
   "metadata": {},
   "source": [
    "# Clasificación de Tumores Cerebrales con SVM + HOG\n",
    "\n",
    "Este notebook implementa un pipeline clásico de visión computacional usando:\n",
    "- Extracción de características HOG (Histogram of Oriented Gradients)\n",
    "- Clasificación con SVM (Support Vector Machine)\n",
    "- Evaluación de resultados"
   ]
  },
  {
   "cell_type": "code",
   "execution_count": null,
   "id": "88d579e5",
   "metadata": {},
   "outputs": [],
   "source": [
    "import os\n",
    "import cv2\n",
    "import numpy as np\n",
    "from pathlib import Path\n",
    "from sklearn.svm import SVC\n",
    "from skimage.feature import hog\n",
    "from sklearn.metrics import classification_report, confusion_matrix\n",
    "from sklearn.model_selection import train_test_split\n",
    "\n",
    "# Parámetros\n",
    "IMG_SIZE = 128  # Tamaño reducido para HOG\n",
    "BASE_DIR = Path(os.path.join(os.getcwd(), '../total/archive/Training'))\n",
    "\n",
    "# Cargar imágenes y etiquetas\n",
    "X, y = [], []\n",
    "class_names = sorted([d.name for d in BASE_DIR.iterdir() if d.is_dir()])\n",
    "for idx, class_name in enumerate(class_names):\n",
    "    class_dir = BASE_DIR / class_name\n",
    "    for img_path in class_dir.glob('*.jpg'):\n",
    "        img = cv2.imread(str(img_path), cv2.IMREAD_GRAYSCALE)\n",
    "        img = cv2.resize(img, (IMG_SIZE, IMG_SIZE))\n",
    "        features = hog(img, pixels_per_cell=(16, 16), cells_per_block=(2, 2), feature_vector=True)\n",
    "        X.append(features)\n",
    "        y.append(idx)\n",
    "X = np.array(X)\n",
    "y = np.array(y)\n",
    "\n",
    "# Separar en entrenamiento y test\n",
    "X_train, X_test, y_train, y_test = train_test_split(X, y, test_size=0.2, random_state=42, stratify=y)"
   ]
  },
  {
   "cell_type": "code",
   "execution_count": null,
   "id": "2e91c092",
   "metadata": {},
   "outputs": [],
   "source": [
    "# Entrenar SVM\n",
    "clf = SVC(kernel='linear', probability=True)\n",
    "clf.fit(X_train, y_train)\n",
    "\n",
    "# Evaluar\n",
    "y_pred = clf.predict(X_test)\n",
    "print(classification_report(y_test, y_pred, target_names=class_names))\n",
    "print('Matriz de confusión:')\n",
    "print(confusion_matrix(y_test, y_pred))"
   ]
  },
  {
   "cell_type": "markdown",
   "id": "bded5deb",
   "metadata": {},
   "source": [
    "**Nota:** Este pipeline es útil como línea base y para comparar con modelos de deep learning."
   ]
  }
 ],
 "metadata": {
  "language_info": {
   "name": "python"
  }
 },
 "nbformat": 4,
 "nbformat_minor": 5
}
